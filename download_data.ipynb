{
  "nbformat": 4,
  "nbformat_minor": 0,
  "metadata": {
    "colab": {
      "provenance": [],
      "collapsed_sections": [
        "dOyWs2DSkvNk",
        "lKtR9SBKEeKs",
        "Wfaa7AY7lYo5",
        "2mFCm2YQ1S0E",
        "gwftqm-VpYrT",
        "GbL7S3pDENgM",
        "qkO4tkfOEimm",
        "vA3r3E6nKCnh",
        "SfZ6sKYomwmB",
        "XdBAdEepmLjV"
      ]
    },
    "kernelspec": {
      "name": "python3",
      "display_name": "Python 3"
    },
    "language_info": {
      "name": "python"
    }
  },
  "cells": [
    {
      "cell_type": "markdown",
      "source": [
        "# Download Data\n",
        "This program accesses download the needed data from HOTOSM and Bunting Labs APIs, and stores them in files for further processing."
      ],
      "metadata": {
        "id": "DNMXzGwJD9FW"
      }
    },
    {
      "cell_type": "markdown",
      "source": [
        "## Global Parameters\n",
        "\n"
      ],
      "metadata": {
        "id": "jKwHWDzNE1-y"
      }
    },
    {
      "cell_type": "code",
      "source": [
        "token_hotosm = \"Token yourtokenhere\"\n",
        "token_bunting_labs = \"yourtokenhere\"\n",
        "data_folder = \"data/\""
      ],
      "metadata": {
        "id": "VnbslxiLEy72"
      },
      "execution_count": null,
      "outputs": []
    },
    {
      "cell_type": "code",
      "source": [
        "in_drive = True  # True to mount a drive while working in Google Colab\n",
        "if in_drive:\n",
        "    from google.colab import drive\n",
        "    drive.mount(\"/content/drive\", force_remount=True)"
      ],
      "metadata": {
        "id": "CDkGmLOfzk8c"
      },
      "execution_count": null,
      "outputs": []
    },
    {
      "cell_type": "markdown",
      "source": [
        "### How to get the necessary tokens"
      ],
      "metadata": {
        "id": "dOyWs2DSkvNk"
      }
    },
    {
      "cell_type": "markdown",
      "source": [
        "#### HOTOSM Tasking Manager API\n",
        "\n",
        "1.   Create an account at https://tasks.hotosm.org/\n",
        "2.   Go to settings and activate \"Expert Mode\"\n",
        "3.   The token is available at the settings page, under \"API Key\"\n",
        "\n",
        "\n",
        "#### Bunting Labs API\n",
        "\n",
        "1.   Create an account at https://buntinglabs.com/\n",
        "2.   The token is available at the dashboard, under \"OpenStreetMap API\""
      ],
      "metadata": {
        "id": "eQzI1Hdqi2oY"
      }
    },
    {
      "cell_type": "markdown",
      "source": [
        "## Setup"
      ],
      "metadata": {
        "id": "lKtR9SBKEeKs"
      }
    },
    {
      "cell_type": "code",
      "execution_count": null,
      "metadata": {
        "id": "9j3fvGa6zw7q"
      },
      "outputs": [],
      "source": [
        "import requests\n",
        "import time\n",
        "import json\n",
        "from urllib.parse import urljoin\n",
        "import pandas as pd\n",
        "import geopandas as gpd\n",
        "from typing import Union, Iterable\n",
        "from tqdm.autonotebook import tqdm\n",
        "from IPython.display import Markdown, display\n",
        "import ipywidgets as widgets\n",
        "import os.path\n",
        "\n",
        "api_base_url_hotosm = \"https://tasking-manager-tm4-production-api.hotosm.org/api/v2/\"\n",
        "headers_hotosm = {\n",
        "    \"Accept-Language\": \"en\",\n",
        "    \"accept\": \"application/json\",\n",
        "    \"Authorization\": token_hotosm\n",
        "}\n",
        "\n",
        "api_base_url_bunting_labs = \"https://osm.buntinglabs.com/v1/\"\n",
        "headers_bunting_labs = {}\n",
        "\n",
        "\n",
        "def get_data(endpoint, payload, which=\"hotosm\"):\n",
        "    if which == \"bunting_labs\":\n",
        "        api_base_url = api_base_url_bunting_labs\n",
        "        headers = headers_bunting_labs\n",
        "    else:  # hotosm\n",
        "        api_base_url = api_base_url_hotosm\n",
        "        headers = headers_hotosm\n",
        "\n",
        "    while True:\n",
        "        response = requests.get(\n",
        "            urljoin(api_base_url, endpoint),\n",
        "            headers=headers,\n",
        "            params=payload,\n",
        "            verify=False if which == \"bunting_labs\" else True  # see why Bunting Labs API fails verification\n",
        "        )\n",
        "\n",
        "        if response.status_code == 200:\n",
        "          break  # Success\n",
        "\n",
        "        if response.status_code == 502 or response.status_code == 504:\n",
        "          # HOTOSM API gives 502 or 504 quite often for no apparent reason\n",
        "          print(\"Received a \" + str(response.status_code) +\n",
        "                \", trying again in 3 seconds...\")\n",
        "          time.sleep(3)  # Sleep 3 seconds and try again\n",
        "\n",
        "        else:\n",
        "          print(f\"Request failed with status code: {response.status_code}\")\n",
        "          raise Exception(response.json())\n",
        "    return response.json()\n",
        "\n",
        "\n",
        "def get_project_ids(createdFrom: str = None) -> pd.DataFrame:\n",
        "    endpoint = \"projects/\"\n",
        "    payload = {\n",
        "        \"orderBy\": \"id\",\n",
        "        \"orderByType\": \"ASC\",\n",
        "        \"mappingTypesExact\": False,\n",
        "        \"page\": 1,\n",
        "        \"projectStatuses\": \"ARCHIVED\",\n",
        "        \"createdByMe\": False,\n",
        "        \"mappedByMe\": False,\n",
        "        \"favoritedByMe\": False,\n",
        "        \"managedByMe\": False,\n",
        "        \"basedOnMyInterests\": False,\n",
        "        \"omitMapResults\": True\n",
        "    }\n",
        "\n",
        "    if createdFrom is not None:\n",
        "        payload[\"createdFrom\"] = createdFrom\n",
        "\n",
        "    projects: list[dict] = []\n",
        "    temp_data = {\n",
        "        \"pagination\": {\n",
        "            \"nextNum\": 1\n",
        "        }\n",
        "    }\n",
        "\n",
        "    pbar = tqdm(unit=\"projects\")\n",
        "\n",
        "    while temp_data[\"pagination\"][\"nextNum\"] is not None:\n",
        "        payload[\"page\"] = int(temp_data[\"pagination\"][\"nextNum\"])\n",
        "        temp_data = get_data(endpoint, payload)\n",
        "        projects += temp_data[\"results\"]\n",
        "        if int(temp_data[\"pagination\"][\"page\"]) == 1:\n",
        "            pbar.total = temp_data[\"pagination\"][\"total\"]\n",
        "            pbar.refresh()\n",
        "        pbar.update(len(temp_data[\"results\"]))\n",
        "\n",
        "    return pd.DataFrame.from_dict(projects)\n",
        "\n",
        "\n",
        "def get_project_stats(project_id: Union[int, str]) -> dict:\n",
        "    endpoint = \"projects/\" + str(project_id) + \"/statistics/\"\n",
        "    payload = {}\n",
        "\n",
        "    return get_data(endpoint, payload)\n",
        "\n",
        "\n",
        "def get_projects_stats(projectlist: Iterable[Union[int, str]]) -> pd.DataFrame:\n",
        "    projects_stats: list[dict] = []\n",
        "    for p in tqdm(projectlist, unit=\"projects\"):\n",
        "        projects_stats.append(get_project_stats(p))\n",
        "\n",
        "    return pd.DataFrame.from_dict(projects_stats)\n",
        "\n",
        "\n",
        "def get_project_activities(project_id: Union[int, str]) -> pd.DataFrame:\n",
        "    endpoint = \"projects/\" + str(project_id) + \"/activities/\"\n",
        "    payload = {}\n",
        "\n",
        "    project_activity: list[dict] = []\n",
        "    temp_data = {\n",
        "        \"pagination\": {\n",
        "            \"nextNum\": 1\n",
        "        }\n",
        "    }\n",
        "\n",
        "    pbar = tqdm(unit=\"activities\")\n",
        "\n",
        "    while temp_data[\"pagination\"][\"nextNum\"] is not None:\n",
        "        payload[\"page\"] = int(temp_data[\"pagination\"][\"nextNum\"])\n",
        "        temp_data = get_data(endpoint, payload)\n",
        "        project_activity += temp_data[\"activity\"]\n",
        "        if int(temp_data[\"pagination\"][\"page\"]) == 1:\n",
        "            pbar.total = temp_data[\"pagination\"][\"total\"]\n",
        "            pbar.refresh()\n",
        "        pbar.update(len(temp_data[\"activity\"]))\n",
        "\n",
        "    return pd.DataFrame.from_dict(project_activity)\n",
        "\n",
        "\n",
        "def get_project_task_grid(project_id: Union[int, str]):\n",
        "    endpoint = \"projects/\" + str(project_id) + \"/tasks/\"\n",
        "    payload = {\n",
        "        \"as_file\": False\n",
        "    }\n",
        "\n",
        "    return get_data(endpoint, payload)\n",
        "\n",
        "\n",
        "def get_user_info(username: str) -> dict:\n",
        "    endpoint = \"users/queries/\" + username + \"/\"\n",
        "    payload = {}\n",
        "\n",
        "    return get_data(endpoint, payload)\n",
        "\n",
        "\n",
        "def get_users_info(userlist: Iterable[str]) -> pd.DataFrame:\n",
        "    users_info: list[dict] = []\n",
        "    for u in tqdm(userlist, unit=\"users\"):\n",
        "        users_info.append(get_user_info(u))\n",
        "\n",
        "    return pd.DataFrame.from_dict(users_info)\n",
        "\n",
        "\n",
        "def get_osm_extract(bbox: Iterable[float], tags=\"building=*\"):\n",
        "    endpoint = \"osm/extract\"  # https://docs.buntinglabs.com/openstreetmap-api/extract\n",
        "    payload = {\n",
        "        \"tags\": tags,\n",
        "        \"api_key\": token_bunting_labs,\n",
        "        \"bbox\": \",\".join(map(str, bbox)),\n",
        "    }\n",
        "\n",
        "    return get_data(endpoint, payload, \"bunting_labs\")\n"
      ]
    },
    {
      "cell_type": "markdown",
      "source": [
        "## Get archived projects"
      ],
      "metadata": {
        "id": "Wfaa7AY7lYo5"
      }
    },
    {
      "cell_type": "code",
      "source": [
        "display(Markdown(\"Select parameters for project selection:\"))\n",
        "\n",
        "from_date_picker = widgets.DatePicker(\n",
        "    description='Projects after',\n",
        "    disabled=False\n",
        ")\n",
        "display(from_date_picker)"
      ],
      "metadata": {
        "id": "0RRLfSPuAMbW"
      },
      "execution_count": null,
      "outputs": []
    },
    {
      "cell_type": "code",
      "source": [
        "output_filename = data_folder + \"output_archived_projs.csv\"\n",
        "\n",
        "display(Markdown(\"Downloading archived projects\"))\n",
        "archived_projects = get_project_ids(createdFrom=from_date_picker.value)\n",
        "\n",
        "display(Markdown(\"Saving output\"))\n",
        "archived_projects.to_csv(output_filename, index=False)\n",
        "\n",
        "display(Markdown(\"Output saved to \" + output_filename))\n",
        "display(Markdown(\"Finished!\"))"
      ],
      "metadata": {
        "id": "U7IKpjvxlg7W"
      },
      "execution_count": null,
      "outputs": []
    },
    {
      "cell_type": "markdown",
      "source": [
        "## Download stats from archived projects"
      ],
      "metadata": {
        "id": "2mFCm2YQ1S0E"
      }
    },
    {
      "cell_type": "code",
      "source": [
        "input_filename = data_folder + \"output_archived_projs.csv\"\n",
        "output_filename = data_folder + \"output_archived_projs_stats.csv\"\n",
        "\n",
        "display(Markdown(\"Reading archived projects\"))\n",
        "input_data = pd.read_csv(input_filename)\n",
        "projects = input_data['projectId'].unique()\n",
        "\n",
        "display(Markdown(\"Downloading stats for those projects\"))\n",
        "projs_stats = get_projects_stats(projects)\n",
        "\n",
        "display(Markdown(\"Saving output\"))\n",
        "projs_stats.to_csv(output_filename, index=False)\n",
        "\n",
        "display(Markdown(\"Output saved to \" + output_filename))\n",
        "display(Markdown(\"Finished!\"))"
      ],
      "metadata": {
        "id": "SLbWrK2A1ltv"
      },
      "execution_count": null,
      "outputs": []
    },
    {
      "cell_type": "markdown",
      "source": [
        "## Select the projects with 100% validation"
      ],
      "metadata": {
        "id": "gwftqm-VpYrT"
      }
    },
    {
      "cell_type": "code",
      "source": [
        "input_filename = data_folder + \"output_archived_projs_stats.csv\"\n",
        "output_filename = data_folder + \"output_archived_projs_selected_ids.csv\"\n",
        "\n",
        "display(Markdown(\"Reading archived projects stats\"))\n",
        "input_data = pd.read_csv(input_filename)\n",
        "\n",
        "display(Markdown(\"Select project ids where project is 100% validated\"))\n",
        "projs_sample = input_data.query(\"percentValidated == 100\")[['projectId']]\n",
        "\n",
        "display(Markdown(\"Saving output\"))\n",
        "projs_sample.to_csv(output_filename, index=False)\n",
        "\n",
        "display(Markdown(\"Output saved to \" + output_filename))\n",
        "display(Markdown(\"Finished!\"))"
      ],
      "metadata": {
        "id": "C2vK2x9CpfmG"
      },
      "execution_count": null,
      "outputs": []
    },
    {
      "cell_type": "markdown",
      "source": [
        "## Get project activities"
      ],
      "metadata": {
        "id": "GbL7S3pDENgM"
      }
    },
    {
      "cell_type": "code",
      "source": [
        "input_filename = data_folder + \"output_archived_projs_selected_ids.csv\"\n",
        "overwrite_if_exists = False\n",
        "\n",
        "display(Markdown(\"Reading selected project ids\"))\n",
        "input_data = pd.read_csv(input_filename)\n",
        "\n",
        "display(Markdown(\"DOWNLOADING ACTIVITIES FOR THE SELECTED PROJECTS\"))\n",
        "for proj_id in tqdm(input_data['projectId'], unit=\"project(s)\"):\n",
        "    output_filename = data_folder + \"output_proj_\" + str(proj_id) + \".csv\"\n",
        "    output_filename_exists = os.path.isfile(output_filename)\n",
        "\n",
        "    if output_filename_exists and not overwrite_if_exists:\n",
        "        display(Markdown(\"Skipping [project #\" + str(proj_id) + \"](https://tasks.hotosm.org/projects/\" + str(proj_id) + \") as output file exists already\"))\n",
        "    else:\n",
        "        display(Markdown(\"Downloading activities for [project #\" + str(proj_id) + \"](https://tasks.hotosm.org/projects/\" + str(proj_id) + \")\"))\n",
        "        proj_act = get_project_activities(proj_id)\n",
        "\n",
        "        display(Markdown(\"Saving output of project #\" + str(proj_id)))\n",
        "        proj_act.to_csv(output_filename, index=False)\n",
        "\n",
        "        display(Markdown(\"Output saved to \" + output_filename))\n",
        "\n",
        "display(Markdown(\"Finished!\"))"
      ],
      "metadata": {
        "id": "Xye_BoMdz4nM"
      },
      "execution_count": null,
      "outputs": []
    },
    {
      "cell_type": "markdown",
      "source": [
        "## Get users info from each project activities"
      ],
      "metadata": {
        "id": "qkO4tkfOEimm"
      }
    },
    {
      "cell_type": "code",
      "source": [
        "input_ids_filename = data_folder + \"output_archived_projs_selected_ids.csv\"\n",
        "overwrite_if_exists = False\n",
        "\n",
        "display(Markdown(\"Reading selected project ids\"))\n",
        "input_data = pd.read_csv(input_ids_filename)\n",
        "\n",
        "display(Markdown(\"DOWNLOADING USERS FOR THE SELECTED PROJECTS\"))\n",
        "for proj_id in tqdm(input_data['projectId'], unit=\"project(s)\"):\n",
        "    input_filename = data_folder + \"output_proj_\" + str(proj_id) + \".csv\"\n",
        "    output_filename = data_folder + \"output_users_proj_\" + str(proj_id) + \".csv\"\n",
        "\n",
        "    output_filename_exists = os.path.isfile(output_filename)\n",
        "\n",
        "    if output_filename_exists and not overwrite_if_exists:\n",
        "        display(Markdown(\"Skipping [project #\" + str(proj_id) + \"](https://tasks.hotosm.org/projects/\" + str(proj_id) + \") as output file exists already\"))\n",
        "    else:\n",
        "        display(Markdown(\"Reading activities for [project #\" + str(proj_id) + \"](https://tasks.hotosm.org/projects/\" + str(proj_id) + \")\"))\n",
        "        proj_info = pd.read_csv(input_filename)\n",
        "        users = proj_info['actionBy'].unique()\n",
        "\n",
        "        display(Markdown(\"Downloading users details\"))\n",
        "        users_info = get_users_info(users)\n",
        "\n",
        "        display(Markdown(\"Saving output\"))\n",
        "        users_info.to_csv(output_filename, index=False)\n",
        "\n",
        "        display(Markdown(\"Output saved to \" + output_filename))\n",
        "\n",
        "display(Markdown(\"Finished!\"))\n"
      ],
      "metadata": {
        "id": "kOMm0sY0EvQt"
      },
      "execution_count": null,
      "outputs": []
    },
    {
      "cell_type": "markdown",
      "source": [
        "## Get task grid for each project"
      ],
      "metadata": {
        "id": "vA3r3E6nKCnh"
      }
    },
    {
      "cell_type": "code",
      "source": [
        "input_ids_filename = data_folder + \"output_archived_projs_selected_ids.csv\"\n",
        "overwrite_if_exists = False\n",
        "\n",
        "display(Markdown(\"Reading selected project ids\"))\n",
        "input_data = pd.read_csv(input_ids_filename)\n",
        "\n",
        "display(Markdown(\"DOWNLOADING TASK GRIDS FOR THE SELECTED PROJECTS\"))\n",
        "for proj_id in tqdm(input_data['projectId'], unit=\"project(s)\"):\n",
        "    output_filename = data_folder + \"output_proj_\" + str(proj_id) + \"_grid.geojson\"\n",
        "\n",
        "    output_filename_exists = os.path.isfile(output_filename)\n",
        "\n",
        "    if output_filename_exists and not overwrite_if_exists:\n",
        "        display(Markdown(\"Skipping [project #\" + str(proj_id) + \"](https://tasks.hotosm.org/projects/\" + str(proj_id) + \") as output file exists already\"))\n",
        "    else:\n",
        "        display(Markdown(\"Downloading task grid for [project #\" + str(proj_id) + \"](https://tasks.hotosm.org/projects/\" + str(proj_id) + \")\"))\n",
        "        proj_grid = get_project_task_grid(proj_id)\n",
        "\n",
        "        display(Markdown(\"Saving output\"))\n",
        "        with open(output_filename, 'w') as of:\n",
        "            json.dump(proj_grid, of)\n",
        "\n",
        "        display(Markdown(\"Output saved to \" + output_filename))\n",
        "\n",
        "display(Markdown(\"Finished!\"))"
      ],
      "metadata": {
        "id": "niJlokUzKGSM"
      },
      "execution_count": null,
      "outputs": []
    },
    {
      "cell_type": "markdown",
      "source": [
        "## OSM building data"
      ],
      "metadata": {
        "id": "SfZ6sKYomwmB"
      }
    },
    {
      "cell_type": "code",
      "source": [
        "input_ids_filename = data_folder + \"output_archived_projs_selected_ids.csv\"\n",
        "overwrite_if_exists = False\n",
        "\n",
        "display(Markdown(\"Reading selected project ids\"))\n",
        "input_data = pd.read_csv(input_ids_filename)\n",
        "\n",
        "display(Markdown(\"DOWNLOADING ASSOCIATED OSM DATA FOR EVERY PROJECT\"))\n",
        "for proj_id in tqdm(input_data['projectId'], unit=\"project(s)\"):\n",
        "    input_proj_grid_filename = data_folder + \"output_proj_\" + str(proj_id) + \"_grid.geojson\"\n",
        "    output_filename = data_folder + \"output_proj_\" + str(proj_id) + \"_osm.geojson\"\n",
        "\n",
        "    output_filename_exists = os.path.isfile(output_filename)\n",
        "\n",
        "    if output_filename_exists and not overwrite_if_exists:\n",
        "        display(Markdown(\"Skipping [project #\" + str(proj_id) + \"](https://tasks.hotosm.org/projects/\" + str(proj_id) + \") as output file exists already\"))\n",
        "    else:\n",
        "        display(Markdown(\"Reading input files for [project #\" + str(proj_id) + \"](https://tasks.hotosm.org/projects/\" + str(proj_id) + \")\"))\n",
        "        proj_grid = gpd.GeoDataFrame.from_file(input_proj_grid_filename)\n",
        "\n",
        "        display(Markdown(\"Extracting OSM data for the area \" + str(proj_grid.geometry.total_bounds)))\n",
        "        extract = get_osm_extract(proj_grid.geometry.total_bounds)\n",
        "        display(Markdown(\"Saving output\"))\n",
        "        with open(output_filename, 'w') as of:\n",
        "            json.dump(extract, of)\n",
        "\n",
        "        display(Markdown(\"Output saved to \" + output_filename))\n",
        "\n",
        "display(Markdown(\"Finished!\"))"
      ],
      "metadata": {
        "id": "OmBhsalrm047"
      },
      "execution_count": null,
      "outputs": []
    },
    {
      "cell_type": "markdown",
      "source": [
        "### Why was the Bunting Labs API chosen?"
      ],
      "metadata": {
        "id": "XdBAdEepmLjV"
      }
    },
    {
      "cell_type": "markdown",
      "source": [
        "There are several ways to download OSM data, all of them with its advantages and disadvantages. Four of these were considered for the project:\n",
        "\n",
        "* Planet OSM + Osmium extract\n",
        "* Geofabrik extracts (+ optional Osmium extract)\n",
        "* Overpass API\n",
        "* Bunting Labs API\n",
        "\n",
        "The two first options are a good alternative, but were ultimately discarded as the data is quite big to handle with Python, in addition to PyOsmium not having the extract function available. On top of that, Osmium CLI is available for MacOS and GNU/Linux, but not for Windows. We want to make this workflow reproducible for users irrespectively of Operating System. You are still encouraged to use these two options if they fit your workflow better than our proposed way.\n",
        "\n",
        "The Overpass API option was discarded as query limits are very low, and we would hit them multiple times with HOTOSM projects.\n",
        "\n",
        "That leaves the Bunting Labs API as our option, with very generous limits, but the downside of having to register for a token.\n",
        "\n"
      ],
      "metadata": {
        "id": "kABQO4OUmQ2D"
      }
    }
  ]
}