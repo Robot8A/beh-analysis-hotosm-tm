{
  "nbformat": 4,
  "nbformat_minor": 0,
  "metadata": {
    "colab": {
      "provenance": [],
      "collapsed_sections": [
        "jKwHWDzNE1-y",
        "lKtR9SBKEeKs",
        "VfbH0CW-0_QO"
      ],
      "machine_shape": "hm"
    },
    "kernelspec": {
      "name": "python3",
      "display_name": "Python 3"
    },
    "language_info": {
      "name": "python"
    }
  },
  "cells": [
    {
      "cell_type": "markdown",
      "source": [
        "# Pre-processing\n",
        "This notebook calculates building coverage as a percentage of each task, for every chosen project"
      ],
      "metadata": {
        "id": "RSvSKQgAFWCt"
      }
    },
    {
      "cell_type": "markdown",
      "source": [
        "## Global Parameters"
      ],
      "metadata": {
        "id": "jKwHWDzNE1-y"
      }
    },
    {
      "cell_type": "code",
      "source": [
        "data_folder = \"data/\""
      ],
      "metadata": {
        "id": "VnbslxiLEy72"
      },
      "execution_count": null,
      "outputs": []
    },
    {
      "cell_type": "code",
      "source": [
        "in_drive = False  # True to mount a drive while working in Google Colab\n",
        "if in_drive:\n",
        "    from google.colab import drive\n",
        "    drive.mount(\"/content/drive\", force_remount=True)"
      ],
      "metadata": {
        "id": "CDkGmLOfzk8c"
      },
      "execution_count": null,
      "outputs": []
    },
    {
      "cell_type": "markdown",
      "source": [
        "## Setup"
      ],
      "metadata": {
        "id": "lKtR9SBKEeKs"
      }
    },
    {
      "cell_type": "code",
      "source": [
        "import pandas as pd\n",
        "import geopandas as gpd\n",
        "import numpy as np\n",
        "import os\n",
        "from datetime import datetime, timedelta\n",
        "from tqdm.autonotebook import tqdm\n",
        "from IPython.display import Markdown, display\n",
        "!pip install utm\n",
        "import utm"
      ],
      "metadata": {
        "id": "fBt1tapo9gJg"
      },
      "execution_count": null,
      "outputs": []
    },
    {
      "cell_type": "code",
      "source": [
        "def calculate_utm_zone(gdf: gpd.GeoDataFrame) -> str:\n",
        "    \"\"\"\n",
        "    From a GeoDataFrame (GDF) in EPSG:4326, calculate an accurate enough UTM zone for it\n",
        "    \"\"\"\n",
        "    assert gdf.crs == \"EPSG:4326\"\n",
        "\n",
        "    bbox = gdf.geometry.total_bounds\n",
        "    lat = bbox[3] - bbox[1]\n",
        "    lon = bbox[2] - bbox[0]\n",
        "    _, _, zone_number, _ = utm.from_latlon(lat, lon)\n",
        "    if lat >= 0:\n",
        "        epsg_number = \"326\" + str(zone_number).zfill(2)\n",
        "    else:\n",
        "        epsg_number = \"327\" + str(zone_number).zfill(2)\n",
        "\n",
        "    return epsg_number\n"
      ],
      "metadata": {
        "id": "Y3uoc0S3BFlP"
      },
      "execution_count": null,
      "outputs": []
    },
    {
      "cell_type": "markdown",
      "source": [
        "## Densities effect"
      ],
      "metadata": {
        "id": "VfbH0CW-0_QO"
      }
    },
    {
      "cell_type": "code",
      "source": [
        "input_ids_filename = data_folder + \"output_archived_projs_selected_ids.csv\"\n",
        "overwrite_intermediate_if_exists = False\n",
        "\n",
        "display(Markdown(\"Reading selected project ids\"))\n",
        "input_data = pd.read_csv(input_ids_filename)\n",
        "\n",
        "densities: pd.DataFrame = None\n",
        "\n",
        "display(Markdown(\"CALCULATING BUILDING DENSITY FOR EVERY TASK OF EVERY PROJECT\"))\n",
        "for proj_id in tqdm(input_data['projectId'], unit=\"project(s)\"):\n",
        "    output_intermediate_filename = data_folder + \"output_densities_\" + str(proj_id) + \".geojson\"\n",
        "    output_intermediate_filename_exists = os.path.isfile(output_intermediate_filename)\n",
        "\n",
        "    if output_intermediate_filename_exists and not overwrite_intermediate_if_exists:\n",
        "        display(Markdown(\"[Project #\" + str(proj_id) + \"](https://tasks.hotosm.org/projects/\" + str(proj_id) + \") already calculated\"))\n",
        "        grid_osm_difference = pd.read_csv(output_intermediate_filename)\n",
        "    else:\n",
        "        ## READ INPUT FILES ##\n",
        "        display(Markdown(\"Reading input files for [project #\" + str(proj_id) + \"](https://tasks.hotosm.org/projects/\" + str(proj_id) + \")\"))\n",
        "\n",
        "        # Read Project OSM building data\n",
        "        input_osm_data_filename = data_folder + \"output_proj_\" + str(proj_id) + \"_osm.geojson\"\n",
        "        osm_data = gpd.GeoDataFrame.from_file(input_osm_data_filename)\n",
        "\n",
        "        # Read Project Grid\n",
        "        input_proj_grid_filename = data_folder + \"output_proj_\" + str(proj_id) + \"_grid.geojson\"\n",
        "        proj_grid = gpd.GeoDataFrame.from_file(input_proj_grid_filename)\n",
        "\n",
        "        ## DATA TRANSFORMATION AND ANALYSIS ##\n",
        "        # Fix mixed types in OSM data\n",
        "        osm_data = osm_data.loc[osm_data.geometry.geometry.type=='MultiPolygon']\n",
        "        # OSM multipolygons get treated as multilinestrings by Bunting Labs API\n",
        "        # We ignore those due to complexity of converting them to proper multipolygons without outer/inner info\n",
        "\n",
        "        # Reproject to UTM - Necessary for area calculation\n",
        "        epsg_number = calculate_utm_zone(proj_grid)\n",
        "        display(Markdown(\"Reprojecting to UTM, EPSG:\" + epsg_number))\n",
        "        proj_grid.to_crs(\"EPSG:\" + epsg_number, inplace=True)\n",
        "        osm_data.to_crs(\"EPSG:\" + epsg_number, inplace=True)\n",
        "\n",
        "        # Calculate task grid cell area\n",
        "        display(Markdown(\"Calculating grid cell area\"))\n",
        "        proj_grid[\"area_sqm\"] = proj_grid.geometry.area\n",
        "\n",
        "        # Delete obvious errors in OSM building data\n",
        "        # (buildings with area greater than 100km2)\n",
        "        osm_data.drop(osm_data.loc[osm_data.area > 1e+08].index, inplace=True)  # 1e+08 m2 = 100 km2\n",
        "\n",
        "        # Overlay OSM building data onto the grid, to get the area not covered by them\n",
        "        display(Markdown(\"Calculating building area\"))\n",
        "        grid_osm_difference = gpd.overlay(proj_grid, osm_data, how=\"difference\")\n",
        "        # https://geopandas.org/en/stable/docs/reference/api/geopandas.overlay.html\n",
        "        # See: https://geopandas.org/en/stable/docs/user_guide/set_operations.html\n",
        "\n",
        "        # Calculate areas not covered by buildings\n",
        "        grid_osm_difference[\"area_not_building\"] = grid_osm_difference.area\n",
        "        # This assertion fails if any given building covers a whole grid cell\n",
        "        # Delete the assertion if such case happens in a logical way for a given project\n",
        "        # The assertion is here to check for obvious building data errors\n",
        "        ## Fails project 12101 task 143 https://tasks.hotosm.org/projects/12101/tasks?search=143&page=1\n",
        "        #assert len(grid_osm_difference) == len(proj_grid)\n",
        "\n",
        "        # Calculate area covered by buildings\n",
        "        grid_osm_difference[\"area_with_building\"] = grid_osm_difference[\"area_sqm\"] - grid_osm_difference[\"area_not_building\"]\n",
        "\n",
        "        # Calculate percentage covered by building\n",
        "        display(Markdown(\"Calculating building density\"))\n",
        "        grid_osm_difference[\"percentage_area_covered_by_building\"] = (grid_osm_difference[\"area_with_building\"] / grid_osm_difference[\"area_sqm\"]) * 100.0\n",
        "\n",
        "        # Select relevant columns\n",
        "        grid_osm_difference = grid_osm_difference[[\"taskId\", \"area_sqm\", \"percentage_area_covered_by_building\"]]\n",
        "        grid_osm_difference[\"projId\"] = str(proj_id)\n",
        "\n",
        "        # Save intermediate status to recover from an eventual failure\n",
        "        display(Markdown(\"Saving intermediate output\"))\n",
        "        grid_osm_difference.to_csv(output_intermediate_filename, index=False)\n",
        "\n",
        "    # Append to densities DataFrame\n",
        "    if densities is None:\n",
        "        densities = grid_osm_difference.copy()\n",
        "    else:\n",
        "        densities = pd.concat([densities, grid_osm_difference.copy()],\n",
        "                              ignore_index=True)\n",
        "\n",
        "    display(Markdown(\"Project #\" + str(proj_id) + \" done!\"))\n",
        "\n",
        "output_filename = data_folder + \"output_densities.csv\"\n",
        "display(Markdown(\"Saving output\"))\n",
        "densities.to_csv(output_filename, index=False)\n",
        "display(Markdown(\"Output saved to \" + output_filename))\n",
        "\n",
        "display(Markdown(\"Finished!\"))"
      ],
      "metadata": {
        "id": "M9bwCfL00-ey"
      },
      "execution_count": null,
      "outputs": []
    }
  ]
}
